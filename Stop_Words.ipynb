{
 "cells": [
  {
   "cell_type": "code",
   "execution_count": 1,
   "metadata": {},
   "outputs": [],
   "source": [
    "# Perform standard imports:\n",
    "import spacy\n",
    "nlp = spacy.load('en_core_web_sm')"
   ]
  },
  {
   "cell_type": "code",
   "execution_count": 2,
   "metadata": {},
   "outputs": [
    {
     "name": "stdout",
     "output_type": "stream",
     "text": [
      "{'so', 'his', 'sometimes', 'former', 'to', 'latter', 'yours', 'either', 'latterly', 'herself', 'since', 'whoever', 'really', 'becomes', 'or', 'otherwise', 'bottom', 'who', 'next', 'why', 'often', 'therefore', 'these', 'me', 'just', 'other', 'myself', '’ll', 'upon', 'your', 'under', 'hereby', 'seem', 'several', 'anyone', 'everyone', '‘ve', 'all', 'have', 'than', 'onto', 'also', 'n’t', 'above', 'thereafter', 'will', 'none', 'seemed', '’s', 'became', 'through', 'must', 'anywhere', 'only', '’re', 'how', 'back', 'without', 'because', 'unless', \"n't\", 're', 'from', 'whole', 'is', 'anyway', 'amongst', 'any', 'he', 'first', 'others', 'yourself', 'serious', 'that', 'besides', 'our', 'toward', 'still', 'a', 'nor', 'into', 'mostly', 'using', 'an', 'could', 'top', 'elsewhere', 'you', 'hereafter', 'though', 'beyond', 'while', 'on', 'three', 'been', 'below', 'whom', 'quite', 'via', \"'s\", 'us', '‘d', 'had', 'among', 'there', 'everywhere', 'itself', 'beside', 'during', 'here', 'nobody', 'show', 'made', 'except', 'thru', 'within', 'twelve', 'everything', 'another', 'used', 'put', 'whenever', 'the', '‘ll', 'whereby', 'when', 'can', 'last', 'seeming', 'meanwhile', '’ve', 'if', 'amount', 'whence', 'ten', 'herein', 'nevertheless', 'down', 'cannot', 'about', 'once', 'too', 'after', 'are', 'then', 'give', 'fifteen', 'around', '’d', 'fifty', 'sometime', 'n‘t', 'due', 'out', 'should', 'say', 'we', 'some', 'third', \"'m\", 'may', 'much', 'even', 'thereupon', 'did', 'such', 'same', 'sixty', 'off', \"'ll\", 'four', 'however', 'be', 'afterwards', 'as', 'five', 'which', 'towards', 'name', 'it', 'therein', 'somehow', '’m', 'each', '‘m', 'part', 'now', 'whereupon', 'yourselves', 'at', 'full', 'hence', 'mine', 'doing', \"'d\", 'up', 'was', 'various', 'would', 'six', 'whereafter', 'make', 'himself', 'formerly', 'someone', 'its', 'whereas', 'whether', 'across', 'thereby', 'anyhow', 'see', 'seems', 'well', 'along', 'forty', 'thus', 'done', 'per', '‘s', 'almost', 'throughout', 'rather', 'few', 'please', 'moreover', 'her', 'further', 'alone', 'they', 'not', \"'ve\", 'for', 'namely', 'one', 'always', 'most', 'already', 'between', 'behind', 'ours', 'empty', 'hundred', 'over', 'i', 'never', 'more', 'by', 'although', 'indeed', 'ca', 'whose', 'hereupon', 'against', 'she', 'both', 'somewhere', 'neither', 'call', 'hers', 'no', 'nowhere', 'and', 'beforehand', 'regarding', 'becoming', 'nine', 'in', 'eleven', 'my', 'yet', 'very', 'themselves', 'become', 'what', 'keep', 'might', 'wherein', 'those', 'him', 'go', 'with', 'many', 'enough', 'every', 'thence', 'something', 'where', 'noone', 'least', 'own', 'nothing', 'less', 'two', 'am', 'ever', 'before', 'does', 'whither', '‘re', 'wherever', 'being', 'front', 'move', 'but', 'has', 'take', 'together', 'this', 'else', 'them', 'again', 'of', 'were', 'until', 'ourselves', 'twenty', 'their', 'perhaps', \"'re\", 'do', 'anything', 'eight', 'get', 'side', 'whatever'}\n"
     ]
    }
   ],
   "source": [
    "# Print the set of spaCy's default stop words (remember that sets are unordered):\n",
    "print(nlp.Defaults.stop_words)"
   ]
  },
  {
   "cell_type": "code",
   "execution_count": 3,
   "metadata": {},
   "outputs": [
    {
     "data": {
      "text/plain": [
       "326"
      ]
     },
     "execution_count": 3,
     "metadata": {},
     "output_type": "execute_result"
    }
   ],
   "source": [
    "len(nlp.Defaults.stop_words)"
   ]
  },
  {
   "cell_type": "code",
   "execution_count": 4,
   "metadata": {},
   "outputs": [
    {
     "data": {
      "text/plain": [
       "True"
      ]
     },
     "execution_count": 4,
     "metadata": {},
     "output_type": "execute_result"
    }
   ],
   "source": [
    "nlp.vocab['myself'].is_stop"
   ]
  },
  {
   "cell_type": "code",
   "execution_count": 5,
   "metadata": {},
   "outputs": [
    {
     "data": {
      "text/plain": [
       "True"
      ]
     },
     "execution_count": 5,
     "metadata": {},
     "output_type": "execute_result"
    }
   ],
   "source": [
    "nlp.vocab['not'].is_stop"
   ]
  },
  {
   "cell_type": "code",
   "execution_count": 6,
   "metadata": {},
   "outputs": [],
   "source": [
    "# Add the word to the set of stop words. Use lowercase!\n",
    "nlp.Defaults.stop_words.add('btw')\n",
    "\n",
    "# Set the stop_word tag on the lexeme\n",
    "nlp.vocab['btw'].is_stop = True"
   ]
  },
  {
   "cell_type": "code",
   "execution_count": 7,
   "metadata": {},
   "outputs": [
    {
     "data": {
      "text/plain": [
       "327"
      ]
     },
     "execution_count": 7,
     "metadata": {},
     "output_type": "execute_result"
    }
   ],
   "source": [
    "len(nlp.Defaults.stop_words)"
   ]
  },
  {
   "cell_type": "code",
   "execution_count": 8,
   "metadata": {},
   "outputs": [
    {
     "data": {
      "text/plain": [
       "True"
      ]
     },
     "execution_count": 8,
     "metadata": {},
     "output_type": "execute_result"
    }
   ],
   "source": [
    "nlp.vocab['btw'].is_stop"
   ]
  },
  {
   "cell_type": "code",
   "execution_count": 9,
   "metadata": {},
   "outputs": [],
   "source": [
    "# Remove the word from the set of stop words\n",
    "nlp.Defaults.stop_words.remove('beyond')\n",
    "\n",
    "# Remove the stop_word tag from the lexeme\n",
    "nlp.vocab['beyond'].is_stop = False"
   ]
  },
  {
   "cell_type": "code",
   "execution_count": 10,
   "metadata": {},
   "outputs": [
    {
     "data": {
      "text/plain": [
       "326"
      ]
     },
     "execution_count": 10,
     "metadata": {},
     "output_type": "execute_result"
    }
   ],
   "source": [
    "len(nlp.Defaults.stop_words)"
   ]
  },
  {
   "cell_type": "code",
   "execution_count": 11,
   "metadata": {},
   "outputs": [
    {
     "data": {
      "text/plain": [
       "False"
      ]
     },
     "execution_count": 11,
     "metadata": {},
     "output_type": "execute_result"
    }
   ],
   "source": [
    "nlp.vocab['beyond'].is_stop"
   ]
  },
  {
   "cell_type": "code",
   "execution_count": null,
   "metadata": {},
   "outputs": [],
   "source": []
  }
 ],
 "metadata": {
  "kernelspec": {
   "display_name": "Python 3",
   "language": "python",
   "name": "python3"
  },
  "language_info": {
   "codemirror_mode": {
    "name": "ipython",
    "version": 3
   },
   "file_extension": ".py",
   "mimetype": "text/x-python",
   "name": "python",
   "nbconvert_exporter": "python",
   "pygments_lexer": "ipython3",
   "version": "3.7.4"
  }
 },
 "nbformat": 4,
 "nbformat_minor": 2
}
